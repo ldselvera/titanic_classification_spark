{
  "nbformat": 4,
  "nbformat_minor": 0,
  "metadata": {
    "colab": {
      "name": "EDA.ipynb",
      "provenance": [],
      "collapsed_sections": [],
      "authorship_tag": "ABX9TyNqY0UTxgbY1/P7yLxIkhC8",
      "include_colab_link": true
    },
    "kernelspec": {
      "name": "python3",
      "display_name": "Python 3"
    },
    "language_info": {
      "name": "python"
    }
  },
  "cells": [
    {
      "cell_type": "markdown",
      "metadata": {
        "id": "view-in-github",
        "colab_type": "text"
      },
      "source": [
        "<a href=\"https://colab.research.google.com/github/ldselvera/titanic_classification_spark/blob/main/EDA.ipynb\" target=\"_parent\"><img src=\"https://colab.research.google.com/assets/colab-badge.svg\" alt=\"Open In Colab\"/></a>"
      ]
    },
    {
      "cell_type": "markdown",
      "source": [
        "# PySpark "
      ],
      "metadata": {
        "id": "lSwtcPsoPdg9"
      }
    },
    {
      "cell_type": "markdown",
      "source": [
        "Apache Spark is a system that provides a cluster-based distributed computing environment with the help of its packages, including:\n",
        "*   SQL querying\n",
        "*   streaming data processing\n",
        "*   machine learning"
      ],
      "metadata": {
        "id": "oeV4tzG_Qrdq"
      }
    },
    {
      "cell_type": "markdown",
      "source": [
        "## Spark Installation"
      ],
      "metadata": {
        "id": "7c9YdS_BQ7OY"
      }
    },
    {
      "cell_type": "code",
      "source": [
        "!pip install pyspark"
      ],
      "metadata": {
        "colab": {
          "base_uri": "https://localhost:8080/"
        },
        "id": "U-ZkTwaRQLvo",
        "outputId": "a693e5dc-62cc-437e-c277-e49cbeff8ec8"
      },
      "execution_count": null,
      "outputs": [
        {
          "output_type": "stream",
          "name": "stdout",
          "text": [
            "Looking in indexes: https://pypi.org/simple, https://us-python.pkg.dev/colab-wheels/public/simple/\n",
            "Collecting pyspark\n",
            "  Downloading pyspark-3.2.1.tar.gz (281.4 MB)\n",
            "\u001b[K     |████████████████████████████████| 281.4 MB 34 kB/s \n",
            "\u001b[?25hCollecting py4j==0.10.9.3\n",
            "  Downloading py4j-0.10.9.3-py2.py3-none-any.whl (198 kB)\n",
            "\u001b[K     |████████████████████████████████| 198 kB 54.0 MB/s \n",
            "\u001b[?25hBuilding wheels for collected packages: pyspark\n",
            "  Building wheel for pyspark (setup.py) ... \u001b[?25l\u001b[?25hdone\n",
            "  Created wheel for pyspark: filename=pyspark-3.2.1-py2.py3-none-any.whl size=281853642 sha256=eb8aaf73956cd515281bdbd2575d803aa38c0a73265759a2f31f428788344898\n",
            "  Stored in directory: /root/.cache/pip/wheels/9f/f5/07/7cd8017084dce4e93e84e92efd1e1d5334db05f2e83bcef74f\n",
            "Successfully built pyspark\n",
            "Installing collected packages: py4j, pyspark\n",
            "Successfully installed py4j-0.10.9.3 pyspark-3.2.1\n"
          ]
        }
      ]
    },
    {
      "cell_type": "markdown",
      "source": [
        "## Spark Session"
      ],
      "metadata": {
        "id": "I4P9oNIPRB6-"
      }
    },
    {
      "cell_type": "code",
      "source": [
        "from pyspark.sql import SparkSession\n",
        "from pyspark.context import SparkContext\n",
        "from pyspark.sql.functions import *\n",
        "from pyspark.ml.feature import StringIndexer"
      ],
      "metadata": {
        "id": "I4OJ4WaHQQXX"
      },
      "execution_count": null,
      "outputs": []
    },
    {
      "cell_type": "code",
      "source": [
        "# spark = SparkSession.builder.getOrCreate()\n",
        "spark = SparkSession.builder.appName(\"FirstSparkApplication\").config (\"spark.executor.memory\", \"8g\").getOrCreate()"
      ],
      "metadata": {
        "id": "a35H1z7URElW"
      },
      "execution_count": null,
      "outputs": []
    },
    {
      "cell_type": "markdown",
      "source": [
        "# Exploratory Data Analysis"
      ],
      "metadata": {
        "id": "QpyBMPu6RQbi"
      }
    },
    {
      "cell_type": "markdown",
      "source": [
        "The “Titanic” dataset will be used and may be downloaded from Kaggle website [here](https://www.kaggle.com/c/titanic/data)."
      ],
      "metadata": {
        "id": "R7fTDW9iRlpt"
      }
    },
    {
      "cell_type": "code",
      "source": [
        "training_dataset = spark.read.format(\"csv\").option(\"inferSchema\", True).option(\"header\", \"true\").load('data/train.csv')\n",
        "test_dataset = spark.read.format(\"csv\").option(\"inferSchema\", True).option(\"header\", \"true\").load('data/test.csv')\n",
        "\n",
        "training_dataset.printSchema"
      ],
      "metadata": {
        "colab": {
          "base_uri": "https://localhost:8080/"
        },
        "id": "xsnVcgiaQKLo",
        "outputId": "4f7787e6-3371-49ea-ab32-6274103b06ac"
      },
      "execution_count": null,
      "outputs": [
        {
          "output_type": "execute_result",
          "data": {
            "text/plain": [
              "<bound method DataFrame.printSchema of DataFrame[PassengerId: int, Survived: int, Pclass: int, Name: string, Sex: string, Age: double, SibSp: int, Parch: int, Ticket: string, Fare: double, Cabin: string, Embarked: string]>"
            ]
          },
          "metadata": {},
          "execution_count": 134
        }
      ]
    },
    {
      "cell_type": "code",
      "source": [
        "print(\"Unique Passenger Counts\")\n",
        "training_dataset.agg(countDistinct(\"PassengerId\")).show()"
      ],
      "metadata": {
        "colab": {
          "base_uri": "https://localhost:8080/"
        },
        "id": "dxcr-TurdIQu",
        "outputId": "ff39be72-03e4-48e6-9428-b419f4f52a0d"
      },
      "execution_count": null,
      "outputs": [
        {
          "output_type": "stream",
          "name": "stdout",
          "text": [
            "Unique Passenger Counts\n",
            "+------------------+\n",
            "|count(PassengerId)|\n",
            "+------------------+\n",
            "|               891|\n",
            "+------------------+\n",
            "\n"
          ]
        }
      ]
    },
    {
      "cell_type": "code",
      "source": [
        "print(\"Test Dataset Row Count\")\n",
        "test_dataset.count()"
      ],
      "metadata": {
        "colab": {
          "base_uri": "https://localhost:8080/"
        },
        "id": "_faAjss0dcVJ",
        "outputId": "72837b22-bc52-4a52-9eda-f0b34dc8e1ad"
      },
      "execution_count": null,
      "outputs": [
        {
          "output_type": "stream",
          "name": "stdout",
          "text": [
            "Test Dataset Row Count\n"
          ]
        },
        {
          "output_type": "execute_result",
          "data": {
            "text/plain": [
              "418"
            ]
          },
          "metadata": {},
          "execution_count": 102
        }
      ]
    },
    {
      "cell_type": "code",
      "source": [
        "training_dataset.show(n=10)"
      ],
      "metadata": {
        "colab": {
          "base_uri": "https://localhost:8080/"
        },
        "id": "AIz1uAq-XJT1",
        "outputId": "e9bed5cd-4bfc-4121-a9f7-c51b81bf7313"
      },
      "execution_count": null,
      "outputs": [
        {
          "output_type": "stream",
          "name": "stdout",
          "text": [
            "+-----------+--------+------+--------------------+------+----+-----+-----+----------------+-------+-----+--------+\n",
            "|PassengerId|Survived|Pclass|                Name|   Sex| Age|SibSp|Parch|          Ticket|   Fare|Cabin|Embarked|\n",
            "+-----------+--------+------+--------------------+------+----+-----+-----+----------------+-------+-----+--------+\n",
            "|          1|       0|     3|Braund, Mr. Owen ...|  male|22.0|    1|    0|       A/5 21171|   7.25| null|       S|\n",
            "|          2|       1|     1|Cumings, Mrs. Joh...|female|38.0|    1|    0|        PC 17599|71.2833|  C85|       C|\n",
            "|          3|       1|     3|Heikkinen, Miss. ...|female|26.0|    0|    0|STON/O2. 3101282|  7.925| null|       S|\n",
            "|          4|       1|     1|Futrelle, Mrs. Ja...|female|35.0|    1|    0|          113803|   53.1| C123|       S|\n",
            "|          5|       0|     3|Allen, Mr. Willia...|  male|35.0|    0|    0|          373450|   8.05| null|       S|\n",
            "|          6|       0|     3|    Moran, Mr. James|  male|null|    0|    0|          330877| 8.4583| null|       Q|\n",
            "|          7|       0|     1|McCarthy, Mr. Tim...|  male|54.0|    0|    0|           17463|51.8625|  E46|       S|\n",
            "|          8|       0|     3|Palsson, Master. ...|  male| 2.0|    3|    1|          349909| 21.075| null|       S|\n",
            "|          9|       1|     3|Johnson, Mrs. Osc...|female|27.0|    0|    2|          347742|11.1333| null|       S|\n",
            "|         10|       1|     2|Nasser, Mrs. Nich...|female|14.0|    1|    0|          237736|30.0708| null|       C|\n",
            "+-----------+--------+------+--------------------+------+----+-----+-----+----------------+-------+-----+--------+\n",
            "only showing top 10 rows\n",
            "\n"
          ]
        }
      ]
    },
    {
      "cell_type": "code",
      "source": [
        "training_dataset.show(n=2, truncate=False, vertical=True)"
      ],
      "metadata": {
        "colab": {
          "base_uri": "https://localhost:8080/"
        },
        "id": "SsiKNRnpXSFM",
        "outputId": "8e298c31-d7bb-45d5-9cca-ee3fe36f4a08"
      },
      "execution_count": null,
      "outputs": [
        {
          "output_type": "stream",
          "name": "stdout",
          "text": [
            "-RECORD 0----------------------------------------------------------\n",
            " PassengerId | 1                                                   \n",
            " Survived    | 0                                                   \n",
            " Pclass      | 3                                                   \n",
            " Name        | Braund, Mr. Owen Harris                             \n",
            " Sex         | male                                                \n",
            " Age         | 22.0                                                \n",
            " SibSp       | 1                                                   \n",
            " Parch       | 0                                                   \n",
            " Ticket      | A/5 21171                                           \n",
            " Fare        | 7.25                                                \n",
            " Cabin       | null                                                \n",
            " Embarked    | S                                                   \n",
            "-RECORD 1----------------------------------------------------------\n",
            " PassengerId | 2                                                   \n",
            " Survived    | 1                                                   \n",
            " Pclass      | 1                                                   \n",
            " Name        | Cumings, Mrs. John Bradley (Florence Briggs Thayer) \n",
            " Sex         | female                                              \n",
            " Age         | 38.0                                                \n",
            " SibSp       | 1                                                   \n",
            " Parch       | 0                                                   \n",
            " Ticket      | PC 17599                                            \n",
            " Fare        | 71.2833                                             \n",
            " Cabin       | C85                                                 \n",
            " Embarked    | C                                                   \n",
            "only showing top 2 rows\n",
            "\n"
          ]
        }
      ]
    },
    {
      "cell_type": "code",
      "source": [
        "training_dataset.describe().show(3,vertical=True)"
      ],
      "metadata": {
        "colab": {
          "base_uri": "https://localhost:8080/"
        },
        "id": "-dZm5PEXeAiN",
        "outputId": "10ac0e6c-9c30-470b-8083-20c3ac9e4fb2"
      },
      "execution_count": null,
      "outputs": [
        {
          "output_type": "stream",
          "name": "stdout",
          "text": [
            "-RECORD 0--------------------------\n",
            " summary     | count               \n",
            " PassengerId | 891                 \n",
            " Survived    | 891                 \n",
            " Pclass      | 891                 \n",
            " Name        | 891                 \n",
            " Sex         | 891                 \n",
            " Age         | 714                 \n",
            " SibSp       | 891                 \n",
            " Parch       | 891                 \n",
            " Ticket      | 891                 \n",
            " Fare        | 891                 \n",
            " Cabin       | 204                 \n",
            " Embarked    | 889                 \n",
            "-RECORD 1--------------------------\n",
            " summary     | mean                \n",
            " PassengerId | 446.0               \n",
            " Survived    | 0.3838383838383838  \n",
            " Pclass      | 2.308641975308642   \n",
            " Name        | null                \n",
            " Sex         | null                \n",
            " Age         | 29.69911764705882   \n",
            " SibSp       | 0.5230078563411896  \n",
            " Parch       | 0.38159371492704824 \n",
            " Ticket      | 260318.54916792738  \n",
            " Fare        | 32.2042079685746    \n",
            " Cabin       | null                \n",
            " Embarked    | null                \n",
            "-RECORD 2--------------------------\n",
            " summary     | stddev              \n",
            " PassengerId | 257.3538420152301   \n",
            " Survived    | 0.48659245426485753 \n",
            " Pclass      | 0.8360712409770491  \n",
            " Name        | null                \n",
            " Sex         | null                \n",
            " Age         | 14.526497332334035  \n",
            " SibSp       | 1.1027434322934315  \n",
            " Parch       | 0.8060572211299488  \n",
            " Ticket      | 471609.26868834975  \n",
            " Fare        | 49.69342859718089   \n",
            " Cabin       | null                \n",
            " Embarked    | null                \n",
            "only showing top 3 rows\n",
            "\n"
          ]
        }
      ]
    },
    {
      "cell_type": "markdown",
      "source": [
        "We check for any nulls values."
      ],
      "metadata": {
        "id": "oL3fDbPDR-p7"
      }
    },
    {
      "cell_type": "code",
      "source": [
        "# Counting the number of null values\n",
        "from pyspark.sql.functions import *\n",
        "\n",
        "print (\"NaN values\\n\")\n",
        "training_dataset.select([count(when(isnan(item), item)).alias(item) for item in training_dataset.columns]).show(5)\n",
        "\n",
        "print (\"Null values\\n\")\n",
        "training_dataset.select([count(when(col(item).isNull(), item)).alias(item) for item in training_dataset.columns]).show(5)\n",
        "\n",
        "print (\"Not Null values\\n\")\n",
        "training_dataset.select([count(when(col(item).isNotNull(), item)).alias(item) for item in training_dataset.columns]).show(5)"
      ],
      "metadata": {
        "colab": {
          "base_uri": "https://localhost:8080/"
        },
        "id": "FhXdgvnzeJnD",
        "outputId": "59cbe0f0-4c2a-44ac-ddb0-4a331cea585c"
      },
      "execution_count": null,
      "outputs": [
        {
          "output_type": "stream",
          "name": "stdout",
          "text": [
            "NaN values\n",
            "\n",
            "+-----------+--------+------+----+---+---+-----+-----+------+----+-----+--------+\n",
            "|PassengerId|Survived|Pclass|Name|Sex|Age|SibSp|Parch|Ticket|Fare|Cabin|Embarked|\n",
            "+-----------+--------+------+----+---+---+-----+-----+------+----+-----+--------+\n",
            "|          0|       0|     0|   0|  0|  0|    0|    0|     0|   0|    0|       0|\n",
            "+-----------+--------+------+----+---+---+-----+-----+------+----+-----+--------+\n",
            "\n",
            "Null values\n",
            "\n",
            "+-----------+--------+------+----+---+---+-----+-----+------+----+-----+--------+\n",
            "|PassengerId|Survived|Pclass|Name|Sex|Age|SibSp|Parch|Ticket|Fare|Cabin|Embarked|\n",
            "+-----------+--------+------+----+---+---+-----+-----+------+----+-----+--------+\n",
            "|          0|       0|     0|   0|  0|177|    0|    0|     0|   0|  687|       2|\n",
            "+-----------+--------+------+----+---+---+-----+-----+------+----+-----+--------+\n",
            "\n",
            "Not Null values\n",
            "\n",
            "+-----------+--------+------+----+---+---+-----+-----+------+----+-----+--------+\n",
            "|PassengerId|Survived|Pclass|Name|Sex|Age|SibSp|Parch|Ticket|Fare|Cabin|Embarked|\n",
            "+-----------+--------+------+----+---+---+-----+-----+------+----+-----+--------+\n",
            "|        891|     891|   891| 891|891|714|  891|  891|   891| 891|  204|     889|\n",
            "+-----------+--------+------+----+---+---+-----+-----+------+----+-----+--------+\n",
            "\n"
          ]
        }
      ]
    },
    {
      "cell_type": "code",
      "source": [
        "print(\"Renaming Column Name\")\n",
        "training_dataset = training_dataset.withColumnRenamed(\"Pclass\",\"PassengerClasses\").withColumnRenamed(\"Sex\",\"Gender\")\n",
        "training_dataset"
      ],
      "metadata": {
        "colab": {
          "base_uri": "https://localhost:8080/"
        },
        "id": "Fb9q3wxTebss",
        "outputId": "419cb43c-f28c-41cb-a883-08b962fd43b2"
      },
      "execution_count": null,
      "outputs": [
        {
          "output_type": "stream",
          "name": "stdout",
          "text": [
            "Renaming Column Name\n"
          ]
        },
        {
          "output_type": "execute_result",
          "data": {
            "text/plain": [
              "DataFrame[PassengerId: int, Survived: int, PassengerClasses: int, Name: string, Gender: string, Age: double, SibSp: int, Parch: int, Ticket: string, Fare: double, Cabin: string, Embarked: string]"
            ]
          },
          "metadata": {},
          "execution_count": 108
        }
      ]
    },
    {
      "cell_type": "code",
      "source": [
        "print(\"Counting the number of Passenger per Classes\")\n",
        "training_dataset.groupBy(\"PassengerClasses\").count().sort(\"PassengerClasses\").show()\n",
        "\n",
        "\n",
        "print(\"Counting the number of Survivals by Classes\")\n",
        "training_dataset.groupBy(\"PassengerClasses\",\n",
        "                         \"Gender\",\n",
        "                         \"Survived\").count().sort(\"PassengerClasses\",\n",
        "                                                  \"Gender\",\n",
        "                                                  \"Survived\").show()"
      ],
      "metadata": {
        "colab": {
          "base_uri": "https://localhost:8080/"
        },
        "id": "o4zyvFRl1eoG",
        "outputId": "bb9df4c4-cb43-44d1-ab1e-c270447c1953"
      },
      "execution_count": null,
      "outputs": [
        {
          "output_type": "stream",
          "name": "stdout",
          "text": [
            "Counting the number of Passenger per Classes\n",
            "+----------------+-----+\n",
            "|PassengerClasses|count|\n",
            "+----------------+-----+\n",
            "|               1|  216|\n",
            "|               2|  184|\n",
            "|               3|  491|\n",
            "+----------------+-----+\n",
            "\n",
            "Counting the number of Survivals by Classes\n",
            "+----------------+------+--------+-----+\n",
            "|PassengerClasses|Gender|Survived|count|\n",
            "+----------------+------+--------+-----+\n",
            "|               1|female|       0|    3|\n",
            "|               1|female|       1|   91|\n",
            "|               1|  male|       0|   77|\n",
            "|               1|  male|       1|   45|\n",
            "|               2|female|       0|    6|\n",
            "|               2|female|       1|   70|\n",
            "|               2|  male|       0|   91|\n",
            "|               2|  male|       1|   17|\n",
            "|               3|female|       0|   72|\n",
            "|               3|female|       1|   72|\n",
            "|               3|  male|       0|  300|\n",
            "|               3|  male|       1|   47|\n",
            "+----------------+------+--------+-----+\n",
            "\n"
          ]
        }
      ]
    }
  ]
}